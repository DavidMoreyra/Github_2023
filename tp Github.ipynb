{
  "cells": [
    {
      "attachments": {},
      "cell_type": "markdown",
      "metadata": {
        "id": "IMuE1R9EHUVc"
      },
      "source": []
    },
    {
      "cell_type": "code",
      "execution_count": null,
      "metadata": {
        "vscode": {
          "languageId": "plaintext"
        }
      },
      "outputs": [],
      "source": [
        "TP Colaborativo en Github\n",
        "grupo3:Nancy Salva ,Cecilia Salva"
      ]
    },
    {
      "cell_type": "code",
      "execution_count": null,
      "metadata": {
        "vscode": {
          "languageId": "plaintext"
        }
      },
      "outputs": [],
      "source": [
        "import json\n",
        "\n",
        "def cargar_json_como_diccionario(nombre_archivo):\n",
        "    with open(nombre_archivo, \"r\") as file:\n",
        "        return json.load(file)\n",
        "\n",
        "def crear_diccionario(lista1, lista2):\n",
        "    return dict(zip(lista1, lista2))\n",
        "\n",
        "def agregar_alumno(diccionario, nombre_alumno, notas):\n",
        "    diccionario[nombre_alumno] = notas\n",
        "\n",
        "def guardar_diccionario_como_json(diccionario, nombre_archivo):\n",
        "    with open(nombre_archivo, \"w\") as file:\n",
        "        json.dump(diccionario, file, indent=4)\n",
        "\n",
        "lista1 = [\"Guzman\", \"Luna\", \"Cardozo\", \"Belmonte\", \"Vilte\"]\n",
        "lista2 = [[50, 75, 20], [100, 90, 60], [10, 50, 100], [50, 50, 60], [80, 85, 60]]\n",
        "\n",
        "diccionario_alumnos = cargar_json_como_diccionario(\"alumnos.json\")\n",
        "\n",
        "diccionario_notas = crear_diccionario(lista1, lista2)\n",
        "\n",
        "agregar_alumno(diccionario_notas, \"López\", [75, 83, 100])\n",
        "\n",
        "diccionario_alumnos.update(diccionario_notas)\n",
        "\n",
        "guardar_diccionario_como_json(diccionario_alumnos, \"alumnos_actualizado.json\")\n",
        "\n",
        "\n",
        "print(\"Diccionario de alumnos:\")\n",
        "print(diccionario_alumnos)\n",
        "\n",
        "with open(\"alumnos_actualizado.json\", \"r\") as file:\n",
        "    print(\"\\nContenido del archivo JSON:\")\n",
        "    print(file.read())\n"
      ]
    }
  ],
  "metadata": {
    "colab": {
      "provenance": []
    },
    "kernelspec": {
      "display_name": "Python 3",
      "name": "python3"
    },
    "language_info": {
      "name": "python"
    }
  },
  "nbformat": 4,
  "nbformat_minor": 0
}
