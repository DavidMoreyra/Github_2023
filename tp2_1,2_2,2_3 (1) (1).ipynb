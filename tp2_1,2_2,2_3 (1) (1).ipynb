{
  "cells": [
    {
      "cell_type": "markdown",
      "metadata": {
        "id": "IMuE1R9EHUVc"
      },
      "source": []
    },
    {
      "cell_type": "markdown",
      "metadata": {
        "id": "FoPD5b7S3U6v"
      },
      "source": [
        "tp2.2\n",
        "EJERCICIO1\n"
      ]
    },
    {
      "cell_type": "code",
      "execution_count": 26,
      "metadata": {
        "colab": {
          "base_uri": "https://localhost:8080/"
        },
        "id": "4TjBi1w73U6w",
        "outputId": "4563e6da-7cb4-4461-fc19-b1458f0361bd"
      },
      "outputs": [
        {
          "output_type": "stream",
          "name": "stdout",
          "text": [
            "120\n",
            "3628800\n"
          ]
        }
      ],
      "source": [
        "def calcular_factorial(n):\n",
        "    if n < 0:\n",
        "        return \"Error: el número debe ser positivo\"\n",
        "    elif n == 0 or n == 1:\n",
        "        return 1\n",
        "    else:\n",
        "        factorial = 1\n",
        "        for i in range(2, n+1):\n",
        "            factorial *= i\n",
        "        return factorial\n",
        "print(calcular_factorial(5))  \n",
        "print(calcular_factorial(10)) \n"
      ]
    },
    {
      "cell_type": "markdown",
      "metadata": {
        "id": "Ommbh6Bb3U6w"
      },
      "source": [
        "EJERCICIO2:"
      ]
    },
    {
      "cell_type": "code",
      "execution_count": 1,
      "metadata": {
        "colab": {
          "base_uri": "https://localhost:8080/"
        },
        "id": "qJUDm6gz3U6x",
        "outputId": "6ac7532f-b044-431a-9ad3-c6e081103b67"
      },
      "outputs": [
        {
          "output_type": "stream",
          "name": "stdout",
          "text": [
            "{'Hola,': 5, 'buenos': 6, 'dias': 4}\n"
          ]
        }
      ],
      "source": [
        "def obtener_diccionario_palabras(frase):\n",
        "    palabras = frase.split()\n",
        "    diccionario = {}\n",
        "    for palabra in palabras:\n",
        "        diccionario[palabra] = len(palabra)\n",
        "    return diccionario\n",
        "frase = \"Hola, buenos dias\"\n",
        "print(obtener_diccionario_palabras(frase))\n"
      ]
    },
    {
      "cell_type": "code",
      "execution_count": null,
      "metadata": {
        "id": "ZQXDmEY03U6y"
      },
      "outputs": [],
      "source": [
        "EJERCICIO3:"
      ]
    },
    {
      "cell_type": "code",
      "source": [
        "def invertir_cadena(cadena):\n",
        "    return cadena[::-1]\n",
        "def encontrar_palindromos(frase):\n",
        "    palabras=frase.split()\n",
        "    palindromos=[]\n",
        "    for palabra in palabras:\n",
        "        if palabra==invertir_cadena(palabra):\n",
        "           palindromos.append(palabra)\n",
        "    return palindromos\n",
        "frase=\"somos o no somos\"\n",
        "palindromos=encontrar_palindromos(frase)\n",
        "print(palindromos)"
      ],
      "metadata": {
        "colab": {
          "base_uri": "https://localhost:8080/"
        },
        "id": "Cq3N1wuPSlK0",
        "outputId": "e0b76df8-41ae-4755-edc9-f747a4d9b553"
      },
      "execution_count": 74,
      "outputs": [
        {
          "output_type": "stream",
          "name": "stdout",
          "text": [
            "['somos', 'o', 'somos']\n"
          ]
        }
      ]
    },
    {
      "cell_type": "markdown",
      "metadata": {
        "id": "tHEIXUEG3U6z"
      },
      "source": [
        "def invertir_cadena(cadena):\n",
        "    return cadena[::-1]\n",
        "\n",
        "def encontrar_palindromos(frase):\n",
        "    palabras = frase.split()\n",
        "    palindromos = []\n",
        "    for palabra in palabras:\n",
        "        if palabra == invertir_cadena(palabra):\n",
        "            palindromos.append(palabra)\n",
        "    return palindromos\n",
        "\n",
        "# Ejemplo de uso\n",
        "frase = \"Anita lava la tina y valdivia también\"\n",
        "palindromos = encontrar_palindromos(frase)\n",
        "print(palindromos)\n",
        "# Output: ['Anita', 'lava', 'la', 'tina']\n"
      ]
    },
    {
      "cell_type": "markdown",
      "metadata": {
        "id": "QlEnW4gH3U60"
      },
      "source": [
        "EJERCICIO4:\n",
        "En este programa, la función coincidencia_ultimas_letrasdetermina si dos palabrascomprobar_rimautiliza esta función para verificar si\n",
        "\n",
        "El programa principal mainsolicitacomprobar_rimapara determinar si\n",
        "\n",
        "Por ejemplo, si se"
      ]
    },
    {
      "cell_type": "code",
      "execution_count": 51,
      "metadata": {
        "colab": {
          "base_uri": "https://localhost:8080/"
        },
        "id": "8HlGCMva3U61",
        "outputId": "1b4bbbed-d781-4952-98cf-7a4f9a83de94"
      },
      "outputs": [
        {
          "output_type": "stream",
          "name": "stdout",
          "text": [
            "Ingrese dos o más palabras separadas por coma: aurora, mora\n",
            "aurora y mora: riman\n"
          ]
        }
      ],
      "source": [
        "def coincidencia_ultimas_letras(palabra1, palabra2, k):\n",
        "    if palabra1[-k:] == palabra2[-k:]:\n",
        "        return True\n",
        "    else:\n",
        "        return False\n",
        "\n",
        "\n",
        "def comprobar_rima(palabra1, palabra2):\n",
        "    k = 3  # Últimas tres letras\n",
        "    if coincidencia_ultimas_letras(palabra1, palabra2, k):\n",
        "        return \"riman\"\n",
        "    \n",
        "    k = 2  # Últimas dos letras\n",
        "    if coincidencia_ultimas_letras(palabra1, palabra2, k):\n",
        "        return \"riman poco\"\n",
        "    \n",
        "    return \"no riman\"\n",
        "\n",
        "\n",
        "def main():\n",
        "    palabras = input(\"Ingrese dos o más palabras separadas por coma: \")\n",
        "    palabras = palabras.split(\", \")\n",
        "    \n",
        "    num_palabras = len(palabras)\n",
        "    \n",
        "    for i in range(num_palabras):\n",
        "        for j in range(i+1, num_palabras):\n",
        "            palabra1 = palabras[i]\n",
        "            palabra2 = palabras[j]\n",
        "            resultado = comprobar_rima(palabra1, palabra2)\n",
        "            print(f\"{palabra1} y {palabra2}: {resultado}\")\n",
        "\n",
        "\n",
        "if __name__ == \"__main__\":\n",
        "    main()\n"
      ]
    },
    {
      "cell_type": "markdown",
      "metadata": {
        "id": "uaGQvvMN3U62"
      },
      "source": [
        "EJERCICIO5\n",
        "Puedes ejecutar este programa en Python para ingresar las encomiendas y obtener los resultados solicitados. El programa te pedirá que ingreses la cantidad de encomiendas, y luego podrás ingresar los detalles de cada una de ellas (código de encomienda, zona de envío, peso del paquete y forma de pago). Al finalizar, se mostrará un resumen con el monto total recaudado, la cantidad de encomiendas"
      ]
    },
    {
      "cell_type": "code",
      "source": [],
      "metadata": {
        "id": "kNct2NLWHUPf"
      },
      "execution_count": null,
      "outputs": []
    },
    {
      "cell_type": "code",
      "execution_count": 50,
      "metadata": {
        "colab": {
          "base_uri": "https://localhost:8080/"
        },
        "id": "VVh3eUIW3U63",
        "outputId": "ff37f709-860c-4465-deba-e7953acde219"
      },
      "outputs": [
        {
          "output_type": "stream",
          "name": "stdout",
          "text": [
            "Ingrese la cantidad de encomiendas: 2\n",
            "\n",
            "Encomienda #1\n",
            "Código de encomienda: 102\n",
            "Zona de envío (zona1, zona2, zona3): zona1\n",
            "Peso del paquete (kilos): 18\n",
            "Forma de pago (efectivo, tarjeta): efectivo\n",
            "\n",
            "Encomienda #2\n",
            "Código de encomienda: 103\n",
            "Zona de envío (zona1, zona2, zona3): zona1\n",
            "Peso del paquete (kilos): 18\n",
            "Forma de pago (efectivo, tarjeta): efectivo\n",
            "\n",
            "Resumen de encomiendas:\n",
            "Monto total recaudado: $460.0\n",
            "Cantidad de encomiendas pagadas con tarjeta de crédito: 0\n",
            "Cantidad de encomiendas con destino Patagonia: 0\n",
            "Cantidad de encomiendas de más de 18 kilos: 0\n",
            "\n",
            "Detalles de cada encomienda:\n",
            "Código: 102, Precio final: $230.0\n",
            "Código: 103, Precio final: $230.0\n"
          ]
        }
      ],
      "source": [
        "def calcular_precio_final(zona, peso, forma_pago):\n",
        "    if zona == \"zona1\":\n",
        "        precio_base = 200\n",
        "    elif zona == \"zona2\":\n",
        "        precio_base = 300\n",
        "    elif zona == \"zona3\":\n",
        "        precio_base = 350\n",
        "    else:\n",
        "        return \"Zona inválida\"\n",
        "\n",
        "    if peso <= 8:\n",
        "        precio_envio = precio_base\n",
        "    elif peso <= 18:\n",
        "        precio_envio = precio_base + (precio_base * 0.15)\n",
        "    else:\n",
        "        precio_envio = precio_base + (precio_base * 0.25)\n",
        "\n",
        "    if forma_pago == \"efectivo\":\n",
        "        precio_final = precio_envio\n",
        "    elif forma_pago == \"tarjeta\":\n",
        "        precio_final = precio_envio + (precio_envio * 0.1)\n",
        "    else:\n",
        "        return \"Forma de pago inválida\"\n",
        "\n",
        "    return precio_final\n",
        "\n",
        "\n",
        "def main():\n",
        "    encomiendas = []\n",
        "    monto_total_recaudado = 0\n",
        "    encomiendas_tarjeta = 0\n",
        "    encomiendas_patagonia = 0\n",
        "    encomiendas_mayor_18 = 0\n",
        "\n",
        "    num_encomiendas = int(input(\"Ingrese la cantidad de encomiendas: \"))\n",
        "\n",
        "    for i in range(num_encomiendas):\n",
        "        print(f\"\\nEncomienda #{i+1}\")\n",
        "        codigo = input(\"Código de encomienda: \")\n",
        "        zona = input(\"Zona de envío (zona1, zona2, zona3): \")\n",
        "        peso = float(input(\"Peso del paquete (kilos): \"))\n",
        "        forma_pago = input(\"Forma de pago (efectivo, tarjeta): \")\n",
        "\n",
        "        precio_final = calcular_precio_final(zona, peso, forma_pago)\n",
        "        monto_total_recaudado += precio_final\n",
        "\n",
        "        if forma_pago == \"tarjeta\":\n",
        "            encomiendas_tarjeta += 1\n",
        "\n",
        "        if zona == \"zona3\":\n",
        "            encomiendas_patagonia += 1\n",
        "\n",
        "        if peso > 18:\n",
        "            encomiendas_mayor_18 += 1\n",
        "\n",
        "        encomiendas.append((codigo, precio_final))\n",
        "\n",
        "    print(\"\\nResumen de encomiendas:\")\n",
        "    print(f\"Monto total recaudado: ${monto_total_recaudado}\")\n",
        "    print(f\"Cantidad de encomiendas pagadas con tarjeta de crédito: {encomiendas_tarjeta}\")\n",
        "    print(f\"Cantidad de encomiendas con destino Patagonia: {encomiendas_patagonia}\")\n",
        "    print(f\"Cantidad de encomiendas de más de 18 kilos: {encomiendas_mayor_18}\")\n",
        "\n",
        "    print(\"\\nDetalles de cada encomienda:\")\n",
        "    for encomienda in encomiendas:\n",
        "        print(f\"Código: {encomienda[0]}, Precio final: ${encomienda[1]}\")\n",
        "\n",
        "\n",
        "if __name__ == \"__main__\":\n",
        "    main()\n"
      ]
    },
    {
      "cell_type": "markdown",
      "metadata": {
        "id": "zC8vLdTR3U64"
      },
      "source": [
        "TP 2.3\n",
        "EJERCICIO1\n",
        "La función `concatenarconcatenar_cadenasutiliza el parámetro especial `*argspara recibir un número variablejoinparaca"
      ]
    },
    {
      "cell_type": "code",
      "execution_count": 47,
      "metadata": {
        "colab": {
          "base_uri": "https://localhost:8080/"
        },
        "id": "yO_1ISbM3U65",
        "outputId": "99030351-d6b1-4bee-aa4a-b5864ae75d9c"
      },
      "outputs": [
        {
          "output_type": "stream",
          "name": "stdout",
          "text": [
            "El que madruga Dios lo ayuda.\n"
          ]
        }
      ],
      "source": [
        "def concatenar_cadenas(*args):\n",
        "    return ' '.join(args)\n",
        "\n",
        "parrafo = concatenar_cadenas(\"El\", \"que\", \"madruga\", \"Dios\", \"lo\", \"ayuda.\")\n",
        "print(parrafo)\n",
        "\n"
      ]
    },
    {
      "cell_type": "markdown",
      "metadata": {
        "id": "NDmXBAiU3U65"
      },
      "source": [
        "EJERCICIO2\n",
        "Lapromedio_y_mayoresutiliza el parámetro especial `*args*argspara recibir un número variable de argumentos numéricos.mayorescon aquellos numeros que son mayores al prom"
      ]
    },
    {
      "cell_type": "code",
      "execution_count": 48,
      "metadata": {
        "colab": {
          "base_uri": "https://localhost:8080/"
        },
        "id": "_mGqIrzl3U66",
        "outputId": "69344588-3649-41cd-f88e-436aea876d7a"
      },
      "outputs": [
        {
          "output_type": "stream",
          "name": "stdout",
          "text": [
            "(5.833333333333333, [8, 10, 7])\n",
            "(5.0, [])\n"
          ]
        }
      ],
      "source": [
        "def promedio_y_mayores(*args):\n",
        "    promedio = sum(args) / len(args)\n",
        "    mayores = [num for num in args if num > promedio]\n",
        "    return promedio, mayores\n",
        "\n",
        "resultado = promedio_y_mayores(5, 8, 10, 2, 3, 7)\n",
        "print(resultado)\n",
        "\n",
        "resultado = promedio_y_mayores(5, 5)\n",
        "print(resultado)\n"
      ]
    }
  ],
  "metadata": {
    "colab": {
      "provenance": []
    },
    "kernelspec": {
      "display_name": "Python 3",
      "name": "python3"
    },
    "language_info": {
      "name": "python"
    }
  },
  "nbformat": 4,
  "nbformat_minor": 0
}