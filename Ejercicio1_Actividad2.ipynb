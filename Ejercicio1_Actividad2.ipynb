{
  "nbformat": 4,
  "nbformat_minor": 0,
  "metadata": {
    "colab": {
      "provenance": []
    },
    "kernelspec": {
      "name": "python3",
      "display_name": "Python 3"
    },
    "language_info": {
      "name": "python"
    }
  },
  "cells": [
    {
      "cell_type": "markdown",
      "source": [
        "Ejercicio 3: Escriba una lista de apellidos de alumnos y una lista de listas con las tres notas obtenidas por cada uno de ellos durante la cursada, de la siguiente manera: lista1 =[“Guzman”, ”Luna”, “Cardozo”, “Belmonte”, “Vilte”] lista2=[[50,75,20], [100, 90, 60], [10, 50, 100], [50, 50, 60], [80, 85, 60]] Las notas de la posición 0 corresponden a Guzmán, las de posición 1 a Luna y así sucesivamente. Diseñe un programa que realice las siguientes tareas:\n",
        "\n",
        "Mostrar el apellido de cada estudiante acompañado de sus respectivas notas.\n",
        "Indicar cuántos estudiantes aprobaron los 3 exámenes (nota>=60).\n",
        "Indicar qué estudiante obtuvo la mayor nota en el primer examen.\n",
        "Indicar cuáles estudiantes deben recuperar el 2do examen."
      ],
      "metadata": {
        "id": "fjseANSew46R"
      }
    },
    {
      "cell_type": "code",
      "source": [
        "Apellidos=['Guzman','Luna','Cardozo','Belmonte','Vilte']\n",
        "Notas=[[50,75,20],[100,90,60],[10,50,100],[50,50,60],[80,85,60]]\n",
        "for apellido,nota in zip(Apellidos,Notas):\n",
        "  print(apellido,*nota,sep=\"\\n\")\n",
        "tam=len(Apellidos)\n",
        "i=0\n",
        "cantaluapr3=0\n",
        "NotaMay=0\n",
        "alumrec=[]\n",
        "while i < tam:\n",
        "  j=0\n",
        "  cantexapr=0\n",
        "  for j in range (3):\n",
        "    Nota=Notas[i][j]\n",
        "    if j==0:\n",
        "      if NotaMay<Nota:\n",
        "        NotaMay=Nota\n",
        "        alumno=Apellidos[i] \n",
        "    elif j==1:\n",
        "      if Nota<60:\n",
        "        alumrec.append(Apellidos[i])\n",
        "        alumrec.append(Nota)\n",
        "    if Nota >= 60:\n",
        "      cantexapr+=1\n",
        "    j+=1\n",
        "  if cantexapr ==3:\n",
        "    cantaluapr3 +=1 \n",
        "    print(\"El alumno\",Apellidos[i], \"aprobo los tres examenes\")\n",
        "  i+=1 \n",
        "print(\"La cantidad de alumnos que aprobaron los tres exámenes son: \",cantaluapr3)\n",
        "print(\"El alumno que tiene la nota mayor en el primer examen es\",alumno, \"con la nota: \",NotaMay) \n",
        "print(\"deben recuperar el segundo examen:\")\n",
        "print (*alumrec, sep=\"\\n\" )  "
      ],
      "metadata": {
        "colab": {
          "base_uri": "https://localhost:8080/"
        },
        "id": "oTGontd5w6yl",
        "outputId": "d9bc5085-c34e-4634-ee94-0b259b8cdf11"
      },
      "execution_count": 1,
      "outputs": [
        {
          "output_type": "stream",
          "name": "stdout",
          "text": [
            "Guzman\n",
            "50\n",
            "75\n",
            "20\n",
            "Luna\n",
            "100\n",
            "90\n",
            "60\n",
            "Cardozo\n",
            "10\n",
            "50\n",
            "100\n",
            "Belmonte\n",
            "50\n",
            "50\n",
            "60\n",
            "Vilte\n",
            "80\n",
            "85\n",
            "60\n",
            "El alumno Luna aprobo los tres examenes\n",
            "El alumno Vilte aprobo los tres examenes\n",
            "La cantidad de alumnos que aprobaron los tres exámenes son:  2\n",
            "El alumno que tiene la nota mayor en el primer examen es Luna con la nota:  100\n",
            "deben recuperar el segundo examen:\n",
            "Cardozo\n",
            "50\n",
            "Belmonte\n",
            "50\n"
          ]
        }
      ]
    }
  ]
}