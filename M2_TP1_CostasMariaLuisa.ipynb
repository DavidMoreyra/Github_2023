{
  "cells": [
    {
      "cell_type": "markdown",
      "metadata": {
        "id": "dnIU4AqjZdXh"
      },
      "source": [
        "# **Trabajo Practico Módulo nro 2**\n",
        "\n",
        "##Temas: Tipos de Datos simples. Variables. Entrada y Salida de datos por consola.\n"
      ]
    },
    {
      "cell_type": "markdown",
      "metadata": {
        "id": "jPc9QcaYZ1o6"
      },
      "source": [
        "## Ejercicio Nro 1\n",
        "Determinar el tipo de dato de las siguientes variables:\n",
        "\n",
        "| | Variable | Valor | Tipo de dato | Tipo de dato en Python |\n",
        "| --- | --- | ---| --- | --- |\n",
        "1 | a | 5 | Entero | int\n",
        "2 | edad | 25 | |\n",
        "3 | monto | 29.9 | |\n",
        "4 | mensaje | \"Ingrese un número\" | |\n",
        "5 | contPositivos | 10\n",
        "6 | respuesta | \"sí\" | cadena |\n",
        "7 | letra | 2.5 | |\n",
        "8 | N | 3 | |\n",
        "9 | i | 's' | |\n",
        "10| x | '@' | |\n",
        "11| promedio | 7.5 | |\n",
        "12| bandera | False | |\n",
        "13| nombre | \"cristian\" | |\n",
        "14| f | -8 | |\n",
        "15| numero | True | |\n",
        "16| vocal | 'a' | |\n",
        "17| num | true | |"
      ]
    },
    {
      "cell_type": "markdown",
      "source": [
        "1.int\n",
        "2.int\n",
        "3.float\n",
        "4.str\n",
        "5.int\n",
        "6.str\n",
        "7.float\n",
        "8.int\n",
        "9.str\n",
        "10.str\n",
        "11.float\n",
        "12.bool\n",
        "13.str\n",
        "14.int\n",
        "15.bool\n",
        "16.str\n",
        "17.bool"
      ],
      "metadata": {
        "id": "KNg3fPiPt1hm"
      }
    },
    {
      "cell_type": "code",
      "source": [
        "type (True)"
      ],
      "metadata": {
        "colab": {
          "base_uri": "https://localhost:8080/"
        },
        "id": "powCn39v6Y7X",
        "outputId": "35c62cf0-6d49-493c-c4c7-d57bdd74058a"
      },
      "execution_count": null,
      "outputs": [
        {
          "output_type": "execute_result",
          "data": {
            "text/plain": [
              "bool"
            ]
          },
          "metadata": {},
          "execution_count": 29
        }
      ]
    },
    {
      "cell_type": "markdown",
      "metadata": {
        "id": "JdcF7wACZFkh"
      },
      "source": [
        "## Ejercicio Nro 2\n",
        "Realizar un programa donde se declare 2 variables enteras, 2 reales, 2 del tipo cadena y 1 del tipo booleano. Mostrar por consola cada variable.\n"
      ]
    },
    {
      "cell_type": "code",
      "source": [
        "edad=36\n",
        "dni=32434666\n",
        "altura=1.69\n",
        "peso=76.545\n",
        "nombre=\"Maria\"\n",
        "apellido= \"Costas\"\n",
        "vacunado= True\n",
        "print(edad)\n",
        "print(dni)\n",
        "print(altura)\n",
        "print(peso)\n",
        "print(nombre)\n",
        "print(apellido)\n",
        "print(vacunado)\n"
      ],
      "metadata": {
        "colab": {
          "base_uri": "https://localhost:8080/",
          "height": 0
        },
        "id": "nnqZ232XuU0V",
        "outputId": "dfe782fe-4fc8-45ab-8bbd-f556be7aedab"
      },
      "execution_count": 1,
      "outputs": [
        {
          "output_type": "stream",
          "name": "stdout",
          "text": [
            "36\n",
            "32434666\n",
            "1.69\n",
            "76.545\n",
            "Maria\n",
            "Costas\n",
            "True\n"
          ]
        }
      ]
    },
    {
      "cell_type": "markdown",
      "metadata": {
        "id": "lPyzjY6P3EIo"
      },
      "source": [
        "## Ejercicio Nro 3\n",
        "\n",
        "Ingresar una frase por consola y mostrar por pantalla. Agregar el siguiente comentario al código (\"Este es mi primer comentario\").\n"
      ]
    },
    {
      "cell_type": "code",
      "source": [
        "frase=input(\"ingresar una frase: \")\n",
        "print(frase) #Este es mi primer comentario."
      ],
      "metadata": {
        "colab": {
          "base_uri": "https://localhost:8080/"
        },
        "id": "m1nbgDq6xsbH",
        "outputId": "6c12baf9-6c5e-4734-a93d-7734e7cf8b0b"
      },
      "execution_count": null,
      "outputs": [
        {
          "output_type": "stream",
          "name": "stdout",
          "text": [
            "ingresar una frase: Hola Mundo!\n",
            "Hola Mundo!\n"
          ]
        }
      ]
    },
    {
      "cell_type": "markdown",
      "metadata": {
        "id": "a90PdqmFwrov"
      },
      "source": [
        "## Ejercicio Nro 4\n",
        "Escribir un programa que pregunte el nombre del usuario y edad e imprima por pantalla el nombre y la edad."
      ]
    },
    {
      "cell_type": "code",
      "source": [
        "Nombre=input(\"Nombre completo: \")\n",
        "Edad=input(\"Años cumplidos: \")\n",
        "print(\"Hola \"+ Nombre )\n",
        "print(\"tu edad es \"+str(Edad))"
      ],
      "metadata": {
        "colab": {
          "base_uri": "https://localhost:8080/",
          "height": 0
        },
        "id": "PbD8NhJGA0yY",
        "outputId": "369c9b32-d1d9-4620-865d-4bdbc8df052e"
      },
      "execution_count": 2,
      "outputs": [
        {
          "output_type": "stream",
          "name": "stdout",
          "text": [
            "Nombre completo: Maria Costas\n",
            "Años cumplidos: 36\n",
            "Hola Maria Costas\n",
            "tu edad es 36\n"
          ]
        }
      ]
    },
    {
      "cell_type": "code",
      "source": [
        "Nombre=input(\"Nombre completo: \")\n",
        "Edad=input(\"Años cumplidos: \")\n",
        "print(\"Hola \"+ Nombre )\n",
        "print(\"tu edad es \"+str(Edad))"
      ],
      "metadata": {
        "id": "uXwHKJSzGz9j",
        "colab": {
          "base_uri": "https://localhost:8080/"
        },
        "outputId": "094723d1-189f-4b91-ac9f-b3528f9facf6"
      },
      "execution_count": null,
      "outputs": [
        {
          "output_type": "stream",
          "name": "stdout",
          "text": [
            "Nombre completo: Maria Luisa Costas\n",
            "Años cumplidos: 36 años\n",
            "Hola Maria Luisa Costas\n",
            "tu edad es 36 años\n"
          ]
        }
      ]
    },
    {
      "cell_type": "markdown",
      "metadata": {
        "id": "eayzOn6d2_ny"
      },
      "source": [
        "## Ejercicio Nro 5\n",
        "Usando **f-string** mostrar las siguientes  frases:\n",
        "\n",
        "*   “3 tristes tigres comen trigo en un trigal”\n",
        "*   “El número pi es 3,14159265359” (mostrar con 4 dígitos)\n",
        "\n",
        "Se deben usar las siguientes variables para armar la frases:\n",
        "\n",
        "*   a = 3\n",
        "*   frase = “trigo en un trigal”\n",
        "*   pi =  3,14159265359\n",
        "\n",
        "\n"
      ]
    },
    {
      "cell_type": "code",
      "source": [
        "\n",
        "    a=3\n",
        "    frase=\"trigo en un trigal\"\n",
        "    pi=3.14159265359\n",
        "    print(f\"{a} tristes tigres comen {frase}.\")\n"
      ],
      "metadata": {
        "colab": {
          "base_uri": "https://localhost:8080/"
        },
        "id": "grZHIvbv_l6V",
        "outputId": "9990775b-a1a6-4d21-f473-f75afa6b04b5"
      },
      "execution_count": null,
      "outputs": [
        {
          "output_type": "stream",
          "name": "stdout",
          "text": [
            "3 tristes tigres comen trigo en un trigal.\n"
          ]
        }
      ]
    },
    {
      "cell_type": "markdown",
      "metadata": {
        "id": "UWUPOC_o2_h6"
      },
      "source": [
        "## Ejercicio Nro 6\n",
        "Cambiar el tipo de las siguientes variables:\n",
        "\n",
        "a = ‘5’ a entero\n",
        "\n",
        "b = 10.52 a entero\n",
        "\n",
        "c = ‘5.30’ a float\n",
        "\n",
        "d = 10 a cadena de texto\n",
        "\n",
        "e = 'True' a bool\n",
        "\n",
        "y mostrar por pantalla. Usar la función definida en Python **type** para comprobar la conversión\n",
        "\n",
        "\n",
        "\n",
        "```\n",
        "type(<variable>) #te devuelve el tipo de la variable\n",
        "\n",
        "a = 5\n",
        "type(a) => Devolvera \"<class 'int'>\"\n",
        "```\n",
        "\n",
        "#### *En los proximos módulos explicaremos el concepto de función.*"
      ]
    },
    {
      "cell_type": "code",
      "source": [
        "a = 5\n",
        "b = 11\n",
        "c = 5.3333\n",
        "d = \"diez\"\n",
        "e = False\n",
        "\n",
        "type(e)"
      ],
      "metadata": {
        "colab": {
          "base_uri": "https://localhost:8080/"
        },
        "id": "-rcepoqv0PiX",
        "outputId": "6f91bc85-62f8-4f50-d090-07e02bd409d5"
      },
      "execution_count": null,
      "outputs": [
        {
          "output_type": "execute_result",
          "data": {
            "text/plain": [
              "bool"
            ]
          },
          "metadata": {},
          "execution_count": 49
        }
      ]
    },
    {
      "cell_type": "markdown",
      "metadata": {
        "id": "n7tgKTjfNkrf"
      },
      "source": [
        "## Ejercicio Nro 7\n",
        "\n",
        "Probar la concatenación de texto con las siguientes variables (aplicar conversión cuando sea necesario):\n",
        "\n",
        "\n",
        "a = 5; b = 10; c = “la suma de “; d = “ + ”;  e = “ es igual a 15”\n",
        "\n",
        "resultado = “la suma de 5 + 10 es igual a 15”\n",
        "\n",
        "Mostrar la variable resultado."
      ]
    },
    {
      "cell_type": "code",
      "source": [
        "a=\"5\"\n",
        "b=\"10\"\n",
        "c= \"la suma de\"\n",
        "d= \"+\"\n",
        "e= \"es igual a 15\"\n",
        "# funcionó de ambas formas, poniendo espacios en la declaración de cada variable y/ poniendo espacios en la declaración de la variable resultado.\n",
        "resultado = (c + \" \" + a + \" \" + d + \" \"+ b + \" \" + e)\n",
        "print(resultado)"
      ],
      "metadata": {
        "colab": {
          "base_uri": "https://localhost:8080/"
        },
        "id": "TUJr_A0e1tzb",
        "outputId": "7ecfec89-9459-4d5a-f95b-6c1e6fbe9887"
      },
      "execution_count": null,
      "outputs": [
        {
          "output_type": "stream",
          "name": "stdout",
          "text": [
            "la suma de 5 + 10 es igual a 15\n"
          ]
        }
      ]
    },
    {
      "cell_type": "markdown",
      "metadata": {
        "id": "mxVIOpOUSu4U"
      },
      "source": [
        "## Ejercicio Nro 8\n",
        "Realizar un programa donde se ingrese el precio de compra, el nombre del cajero, la fecha. Luego debe mostrar el siguiente ticket por consola.\n",
        "\n",
        "![image.png](data:image/png;base64,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)"
      ]
    },
    {
      "cell_type": "code",
      "source": [
        "nombre=input(\"Ingrese su nombre: \")\n",
        "precio= float(input(\"Ingrese el precio: \"))\n",
        "ffecha=input(\"Ingrese la fecha: \")\n",
        "print(\"          SUPERMERCADO          \")\n",
        "print(\"--------------------------------\")"
      ],
      "metadata": {
        "id": "Z_alrhI-QyVU",
        "colab": {
          "base_uri": "https://localhost:8080/"
        },
        "outputId": "ab984a12-2711-4b40-9dc7-79894ad35e02"
      },
      "execution_count": null,
      "outputs": [
        {
          "output_type": "stream",
          "name": "stdout",
          "text": [
            "Ingrese su nombre: Mario Pepe\n",
            "Ingrese el precio: 1000\n",
            "Ingrese la fecha: 14/04/2022\n",
            "          SUPERMERCADO          \n",
            "--------------------------------\n"
          ]
        }
      ]
    }
  ],
  "metadata": {
    "colab": {
      "provenance": []
    },
    "kernelspec": {
      "display_name": "Python 3 (ipykernel)",
      "language": "python",
      "name": "python3"
    },
    "language_info": {
      "codemirror_mode": {
        "name": "ipython",
        "version": 3
      },
      "file_extension": ".py",
      "mimetype": "text/x-python",
      "name": "python",
      "nbconvert_exporter": "python",
      "pygments_lexer": "ipython3",
      "version": "3.8.10"
    },
    "vscode": {
      "interpreter": {
        "hash": "6d850d8e90e60c3336e66e26b3917652b6d7c59c27178fa3ce4a1808cd55e75f"
      }
    }
  },
  "nbformat": 4,
  "nbformat_minor": 0
}