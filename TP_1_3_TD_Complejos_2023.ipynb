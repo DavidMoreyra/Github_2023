{
  "nbformat": 4,
  "nbformat_minor": 0,
  "metadata": {
    "colab": {
      "provenance": [],
      "include_colab_link": true
    },
    "kernelspec": {
      "name": "python3",
      "display_name": "Python 3"
    },
    "language_info": {
      "name": "python"
    }
  },
  "cells": [
    {
      "cell_type": "markdown",
      "metadata": {
        "id": "view-in-github",
        "colab_type": "text"
      },
      "source": [
        "<a href=\"https://colab.research.google.com/github/DavidMoreyra/Github_2023/blob/main/TP_1_3_TD_Complejos_2023.ipynb\" target=\"_parent\"><img src=\"https://colab.research.google.com/assets/colab-badge.svg\" alt=\"Open In Colab\"/></a>"
      ]
    },
    {
      "cell_type": "markdown",
      "source": [
        "Escribir un programa que dada una lista de nombres, muestre un saludo con el mensaje de \"Bienvenidxs al curso de Introducción al desarrollo con Python\" a todos los nombres que hay en la lista.\n",
        "luego solite un nuevo nombre a un usuario y agregue el nuevo nombre a la lista. y muestre el mismo mensaje con la lista actualizada"
      ],
      "metadata": {
        "id": "_x_UB_VRpYMp"
      }
    },
    {
      "cell_type": "code",
      "source": [
        "nombres = [\"Maria\",\"Ana\",\"Carmen\",\"Silvia\",\"Silvana\"]\n",
        "\n",
        "print(nombres)\n",
        "nombre = input(\"Ingrese un nombre: \")\n",
        "nombres.append(nombre)\n",
        "for i in nombres:\n",
        "  print(f\"{i} bienvenidxs al curso de introdicción al desarrollo con python\")\n",
        "nombres.insert(2,\"Marcela\")\n",
        "print(nombres)\n",
        "nombres.remove(\"Ana\")\n",
        "print(nombres)"
      ],
      "metadata": {
        "id": "xUQx58a0pYmy",
        "colab": {
          "base_uri": "https://localhost:8080/"
        },
        "outputId": "8a47b6f4-ec95-426d-a2bc-e0f91e4e4a58"
      },
      "execution_count": null,
      "outputs": [
        {
          "output_type": "stream",
          "name": "stdout",
          "text": [
            "['Maria', 'Ana', 'Carmen', 'Silvia', 'Silvana']\n",
            "Ingrese un nombre: Patricia\n",
            "Maria bienvenidxs al curso de introdicción al desarrollo con python\n",
            "Ana bienvenidxs al curso de introdicción al desarrollo con python\n",
            "Carmen bienvenidxs al curso de introdicción al desarrollo con python\n",
            "Silvia bienvenidxs al curso de introdicción al desarrollo con python\n",
            "Silvana bienvenidxs al curso de introdicción al desarrollo con python\n",
            "Patricia bienvenidxs al curso de introdicción al desarrollo con python\n",
            "['Maria', 'Ana', 'Marcela', 'Carmen', 'Silvia', 'Silvana', 'Patricia']\n",
            "['Maria', 'Marcela', 'Carmen', 'Silvia', 'Silvana', 'Patricia']\n"
          ]
        }
      ]
    },
    {
      "cell_type": "markdown",
      "source": [
        "Dada una Tupla con los nombres y edades correspondientes, crear un lista con los nombres de las personas que sean mayores a 18 años.\n",
        "luego muestre la tupla y la lista."
      ],
      "metadata": {
        "id": "WKhSaww0sZEx"
      }
    },
    {
      "cell_type": "code",
      "source": [
        "personas = (20,\"Alejandro\",18,\"Carla\",12,\"Verónica\",23,\"Rosario\",16,\"Fernando\",10,\"Alma\",30,\"Karina\")\n",
        "lista = list(personas)\n",
        "i = 0\n",
        "tam = len(lista)\n",
        "while i < tam:\n",
        "  elemento = lista[i]\n",
        "  if elemento < 18:\n",
        "    lista.remove(elemento)\n",
        "    elemento = lista[i]\n",
        "    lista.remove(elemento)\n",
        "    tam = len(lista)\n",
        "  else:\n",
        "    i += 2\n",
        "print(personas)\n",
        "print(lista)"
      ],
      "metadata": {
        "id": "xYnHkXsOsa_R",
        "colab": {
          "base_uri": "https://localhost:8080/"
        },
        "outputId": "23f691a0-81f7-40e3-efd4-748f96ba389c"
      },
      "execution_count": null,
      "outputs": [
        {
          "output_type": "stream",
          "name": "stdout",
          "text": [
            "(20, 'Alejandro', 18, 'Carla', 12, 'Verónica', 23, 'Rosario', 16, 'Fernando', 10, 'Alma', 30, 'Karina')\n",
            "[20, 'Alejandro', 18, 'Carla', 23, 'Rosario', 30, 'Karina']\n"
          ]
        }
      ]
    },
    {
      "cell_type": "markdown",
      "source": [
        "Dado un diccionario con los campeones del mundial de futbol desde 1986 en adelante, en donde la clave es el año en que jugó mundial y el valor es país del equipo ganador.\n",
        "\n",
        "1)solicitar al usuario un pais e indicar si el país gano un mundial y el año del triunfo, en caso contrario mostrar un mensaje que no gano un mundial desde 1986 hasta 2022.\n",
        "2) Solicitar al usuario un año y mostrar el pais ganador, si el año ingresado no corresponde al año en que se jugó un mundial mostrar un mensaje de error.  Para finalizar el programa ingrese 0 y muestre el diccionario."
      ],
      "metadata": {
        "id": "LHeYEhcMqc98"
      }
    },
    {
      "cell_type": "code",
      "source": [
        "campeon_mundial = {\n",
        "    1986: 'Argentina',\n",
        "    1990: 'Alemania',\n",
        "    1994: 'Brasil',\n",
        "    1998: 'Francia',\n",
        "    2002: 'Brasil',\n",
        "    2006: 'Itália',\n",
        "    2010: 'Espana',\n",
        "    2014: 'Alemania',\n",
        "    2018: 'Francia',\n",
        "    2022: 'Argentina'}\n",
        "pais = input(\"Ingrese un país: \")\n",
        "if pais in campeon_mundial.values():\n",
        "  for clave, valor in campeon_mundial.items():\n",
        "    if valor == pais:\n",
        "      print(f\"{pais} ganó el mundial de futbol de {clave}\")\n",
        "else:\n",
        "  print(f\"{pais} no ganó ningún mundial del futbol entre los años 1986 a 2022\")\n",
        "resp = True\n",
        "while resp == True:\n",
        "  año = int(input(\"Ingrese un año en que se jugó un mundial de futbol: \"))\n",
        "  if campeon_mundial.get(año):\n",
        "    print(f\"El campeón mundial de {año} es\",campeon_mundial.get(año))\n",
        "  elif año == 0:\n",
        "    resp = False\n",
        "  else:\n",
        "    print(\"Error en el ingreso del año, intente nuevamente\")\n",
        "print(campeon_mundial)"
      ],
      "metadata": {
        "colab": {
          "base_uri": "https://localhost:8080/"
        },
        "id": "B76nb2T7qdey",
        "outputId": "3741c062-f2f3-43f0-b77a-dbeec39a4c80"
      },
      "execution_count": null,
      "outputs": [
        {
          "output_type": "stream",
          "name": "stdout",
          "text": [
            "Ingrese un país: Argentina\n",
            "Argentina ganó el mundial de futbol de 1986\n",
            "Argentina ganó el mundial de futbol de 2022\n",
            "Ingrese un año en que se jugó un mundial de futbol: 2010\n",
            "El campeón mundial de 2010 es Espana\n",
            "Ingrese un año en que se jugó un mundial de futbol: 1999\n",
            "Error en el ingreso del año, intente nuevamente\n",
            "Ingrese un año en que se jugó un mundial de futbol: 0\n",
            "{1986: 'Argentina', 1990: 'Alemania', 1994: 'Brasil', 1998: 'Francia', 2002: 'Brasil', 2006: 'Itália', 2010: 'Espana', 2014: 'Alemania', 2018: 'Francia', 2022: 'Argentina'}\n"
          ]
        }
      ]
    },
    {
      "cell_type": "markdown",
      "source": [
        "Ejercicio 1:\n",
        "\n",
        "Escribir un programa que almacene las siguientes series (“Juego del Calamar”, “La\n",
        "casa de papel”, ”The Mandalorian”, ”Juegos de Tronos”, ”Anillos del Poder”) en una\n",
        "lista y muestre por pantalla el siguiente mensaje: \"Yo vi la serie\n",
        "{nombre_de_la_serie}\". Debe recorrer todas las series de la lista."
      ],
      "metadata": {
        "id": "hI27BETQt2Hx"
      }
    },
    {
      "cell_type": "code",
      "source": [],
      "metadata": {
        "id": "jS3yXAHgty-U"
      },
      "execution_count": null,
      "outputs": []
    },
    {
      "cell_type": "markdown",
      "source": [
        "Ejercicio 2:\n",
        "\n",
        "Escribir un programa que almacene en una lista (“Juego del Calamar”, ”The\n",
        "Mandalorian”, ”Juegos de Tronos”, ”Anillos del Poder”) y en otra lista (“Netflix”,\n",
        "”Disney+”, ”HBO”, ”Amazon”). Muestre por pantalla el mensaje: \"Yo vi la serie\n",
        "{nombre_serie} de la plataforma {nombre_plataforma}\". Debe recorrer las series y\n",
        "mostrar la plataforma que se ubica en la misma posición que la serie en la otra lista.\n",
        "\n"
      ],
      "metadata": {
        "id": "yGUEH8UEt3Zj"
      }
    },
    {
      "cell_type": "code",
      "source": [
        "# Resolución propuesta por Evangelina Dioli\n",
        "\n",
        "series = [\"Juego del Calamar\", \"The Mandalorian\", \"Juegos de Tronos\", \"Anillos del Poder\"]\n",
        "plataformas = [\"Netflix\", \"Disney+\", \"HBO\", \"Amazon\"]\n",
        "\n",
        "for i in range(len(series)):\n",
        "    print(\"Yo vi la serie\", series[i], \"de la plataforma\", plataformas[i])"
      ],
      "metadata": {
        "id": "iC4tq6itt0OM",
        "outputId": "eb3f7a7f-b501-4d6e-d7ae-6b029b489957",
        "colab": {
          "base_uri": "https://localhost:8080/"
        }
      },
      "execution_count": null,
      "outputs": [
        {
          "output_type": "stream",
          "name": "stdout",
          "text": [
            "Yo vi la serie Juego del Calamar de la plataforma Netflix\n",
            "Yo vi la serie The Mandalorian de la plataforma Disney+\n",
            "Yo vi la serie Juegos de Tronos de la plataforma HBO\n",
            "Yo vi la serie Anillos del Poder de la plataforma Amazon\n"
          ]
        }
      ]
    },
    {
      "cell_type": "markdown",
      "source": [
        "Ejercicio 3:\n",
        "Escriba una lista de apellidos de alumnos y una lista de listas con las tres notas obtenidas por cada uno de ellos durante la cursada, de la siguiente manera:\n",
        "\n",
        "lista1 =[“Guzman”, ”Luna”, “Cardozo”, “Belmonte”, “Vilte”]\n",
        "\n",
        "lista2=[[50,75,20], [100, 90, 60], [10, 50, 100], [50, 50, 60], [80, 85, 60]]\n",
        "\n",
        "Las notas de la posición 0 corresponden a Guzmán, las de posición 1 a Luna y así\n",
        "sucesivamente.\n",
        "\n",
        "Diseñe un programa que realice las siguientes tareas:\n",
        "- Mostrar el apellido de cada estudiante acompañado de sus respectivas notas.\n",
        "- Indicar cuántos estudiantes aprobaron los 3 exámenes (nota>=60).\n",
        "- Indicar qué estudiante obtuvo la mayor nota en el primer examen.\n",
        "- Indicar cuáles estudiantes deben recuperar el 2do examen."
      ],
      "metadata": {
        "id": "SUY15-eNtzsc"
      }
    },
    {
      "cell_type": "code",
      "source": [
        "lista1 =[\"Guzman\",\"Luna\",\"Cardozo\",\"Belmonte\",\"Vilte\"]\n",
        "lista2=[[50,75,20], [100, 90, 60], [10, 50, 100], [50, 50, 60], [80, 85, 60]]\n",
        "lista3 = []\n",
        "lista4 = []\n",
        "cont1 = 0\n",
        "mayorNota = 0\n",
        "ind = 0\n",
        "for indice in range(len(lista1)):\n",
        "  print(lista1[indice], \"sus notas son: \", lista2[indice])\n",
        "  suma = 0\n",
        "  ban = 1\n",
        "  cont2 = 0\n",
        "  for nota in lista2[indice]:\n",
        "    cont2 += 1\n",
        "    if nota >= 60:\n",
        "      suma = suma + nota\n",
        "    if ban == 1:\n",
        "      ban = 0\n",
        "      if nota > mayorNota:\n",
        "        mayorNota = nota\n",
        "        ind = indice\n",
        "    if cont2 == 2:\n",
        "      if nota < 60:\n",
        "        lista4.append(lista1[indice])\n",
        "  if suma >= 180:\n",
        "    cont1 += 1\n",
        "print(\"\")\n",
        "print(\"Cantidad de alumnos que aprobaron los 3 examenes con notas >= a 60: \",cont1 )\n",
        "print(\"Alumno con mayor nota en el 1er parcial: \", lista1[ind])\n",
        "print(\"Alumnos que deben recuperar el 2do parcial: \", lista4)"
      ],
      "metadata": {
        "id": "7YxPktDnt5vE"
      },
      "execution_count": null,
      "outputs": []
    },
    {
      "cell_type": "markdown",
      "source": [
        "Ejercicio 4:\n",
        "\n",
        "Escriba una tupla que contenga DNI y lugar de votación de los próximos comicios, por\n",
        "ejemplo (DNI1, lugar1, DNI2, lugar2,...etc). Luego, automáticamente, transforme a\n",
        "esa tupla en un diccionario."
      ],
      "metadata": {
        "id": "gJRvTF6n0e3E"
      }
    },
    {
      "cell_type": "code",
      "source": [
        "# Solución propuesta por Paula Nicole Cardozo Gómez\n",
        "\n",
        "tupla = (1111, 'lugar1', 2222, 'lugar2', 3333, 'lugar3')\n",
        "\n",
        "diccionario = dict()\n",
        "\n",
        "for i in range(0, len(tupla), 2):\n",
        "    dni = tupla[i]\n",
        "    lugar = tupla[i+1]\n",
        "    diccionario[dni] = lugar\n",
        "\n",
        "print(diccionario)"
      ],
      "metadata": {
        "id": "xVvQHzZt0iDi",
        "outputId": "0e566815-4972-49d6-bbe9-b8c11d6a16be",
        "colab": {
          "base_uri": "https://localhost:8080/"
        }
      },
      "execution_count": null,
      "outputs": [
        {
          "output_type": "stream",
          "name": "stdout",
          "text": [
            "{1111: 'lugar1', 2222: 'lugar2', 3333: 'lugar3'}\n"
          ]
        }
      ]
    },
    {
      "cell_type": "markdown",
      "source": [
        "Ejercicio 5:\n",
        "\n",
        "Escribir un programa que guarde en una variable el diccionario {'Euro':248,\n",
        "'Dolar':234.55, 'Yen':1.67, 'Libra':285.16}, pregunte al usuario si quiere cambiar pesos argentinos y muestre la tasa de cambio y cuánto dinero le corresponde. El usuario puede solicitar repetidamente realizar cambio de divisa y decidir cuándo parar. En cada solicitud debe ingresar el monto a cambiar y la divisa deseada. Dar aviso si la divisa no está en el diccionario.\n",
        "\n",
        "Por ejemplo:\n",
        "\n",
        "Divisa = Yen pesos = $1000 salida tasa = 1.67, monto = 598,80\n",
        "\n",
        "Divisa = Libra pesos = $5000 salida tasa = 1285.16, monto = 3,89\n",
        "\n",
        "Divisa = Yen pesos = 2500 salida tasa = 1.67, monto = 1497,00"
      ],
      "metadata": {
        "id": "-7CD2RxS3puZ"
      }
    },
    {
      "cell_type": "code",
      "source": [
        "dic_divisa = {'Euro':'Ɛ','Dolar':'$','Yen':'¥'}\n",
        "dic_divisa2 = {'Euro': 550,'Dolar': 500,'Yen': 5.67, 'Libra': 485.16}\n",
        "divisa = input(\"Ingrese una divisa: \")\n",
        "pesos = float(input(\"Ingrese la cantidad de pesos que desea cambiar: \"))\n",
        "band = False\n",
        "if divisa in dic_divisa:\n",
        "  print(f\"El simbolo del {divisa} es {dic_divisa[divisa]}\")\n",
        "  band = True\n",
        "else:\n",
        "  print(\"La divisa no esta en el diccionario.\")\n",
        "if band:\n",
        "  for clave, valor in dic_divisa2.items():\n",
        "    if divisa == clave:\n",
        "      cambio = pesos / valor\n",
        "  print(f\"El cambio de $ {pesos} a {divisa} es {cambio}\")\n",
        "print(\"Fin del programa\")"
      ],
      "metadata": {
        "colab": {
          "base_uri": "https://localhost:8080/"
        },
        "id": "xRpB0ynV3sf4",
        "outputId": "0c09648c-ee90-4980-b2fb-a606eb3ca144"
      },
      "execution_count": null,
      "outputs": [
        {
          "output_type": "stream",
          "name": "stdout",
          "text": [
            "Ingrese una divisa: Dolar\n",
            "Ingrese la cantidad de pesos que desea cambiar: 1000\n",
            "El simbolo del Dolar es $\n",
            "El cambio de $ 1000.0 a Dolar es 2.0\n",
            "Fin del programa\n"
          ]
        }
      ]
    },
    {
      "cell_type": "markdown",
      "source": [
        "Ejercicio 6:\n",
        "Escribir un programa que gestione algunos turnos de atención de un consultorio\n",
        "médico.\n",
        "\n",
        "Debe iniciar un diccionario usando como clave el horario de atención y como\n",
        "valor una cadena vacía para cada clave.\n",
        "\n",
        "Luego cuando un paciente elija un horario debe modificar el valor de dicha clave colocando el apellido del paciente.\n",
        "\n",
        "Simule la solicitud de varios turnos hasta que el usuario decida detener la carga.\n",
        "\n",
        "El horario elegido por cada paciente debe ser una cadena de la forma “hh:mm” además debe proporcionar su apellido.\n",
        "\n",
        "Al finalizar la carga de pacientes muestre cuántos turnos fueron dados y el horario dado a cada paciente.\n",
        "\n",
        "turnos = {\n",
        "'08:00': '',\n",
        "'08:30': '',\n",
        "'09:00': '',\n",
        "'09:30': '',\n",
        "'10:00': '',\n",
        "'10:30': '',\n",
        "'11:00': '',\n",
        "'11:30': '',\n",
        "'12:00': '',\n",
        "'12:30': ''\n",
        "}\n",
        "\n",
        "Por ejemplo:\n",
        "horario = 08:00 apellido = gomez\n",
        "horario = 09:00 apellido = perez\n",
        "horario = 08:00 apellido = vazquez (ya está asignado)\n",
        "horario = 10:30 apellido = vazquez\n",
        "\n",
        "Salida = “se asignaron 3 turnos”\n",
        "'08:00': 'gomez',\n",
        "'09:00': 'perez',\n",
        "'10:30': 'vazquez',"
      ],
      "metadata": {
        "id": "r2eCBEH1tys-"
      }
    },
    {
      "cell_type": "code",
      "source": [
        "turnos = { \"08:00\": '',\n",
        "          '08:30': '',\n",
        "          '09:00': '',\n",
        "          '09:30': '',\n",
        "          '10:00': '',\n",
        "          '10:30': '',\n",
        "          '11:00': '',\n",
        "          '11:30': '',\n",
        "          '12:00': '',\n",
        "          '12:30': '' }\n",
        "respuesta = \"si\"\n",
        "while respuesta == \"si\":\n",
        "  apellido = input(\"Ingrese el apellido del paciente: \")\n",
        "  horario = input(\"Ingrese el horario elegido (HH:MM): \")\n",
        "  ban = 0\n",
        "  for clave, valor in turnos.items():\n",
        "    if ban == 0:\n",
        "      if horario == clave and len(valor) == 0:\n",
        "        turnos[clave] = apellido\n",
        "        ban = 1\n",
        "        print(\"Turno confirmado\")\n",
        "      else:\n",
        "        print(\"Turno no disponible\")\n",
        "  respuesta= input(\"Desea seguir ingresando (si o no): \")\n",
        "print(turnos)"
      ],
      "metadata": {
        "colab": {
          "base_uri": "https://localhost:8080/"
        },
        "id": "MPJSFhhDsHHg",
        "outputId": "d4468759-40ba-4f14-e7a7-34fa66f7a03b"
      },
      "execution_count": null,
      "outputs": [
        {
          "output_type": "stream",
          "name": "stdout",
          "text": [
            "Ingrese el apellido del paciente: gomez\n",
            "Ingrese el horario elegido (HH:MM): 08:00\n",
            "ban2  1\n",
            "Turno confirmado\n",
            "Desea seguir ingresando (si o no): no\n",
            "{'08:00': 'gomez', '08:30': '', '09:00': '', '09:30': '', '10:00': '', '10:30': '', '11:00': '', '11:30': '', '12:00': '', '12:30': ''}\n"
          ]
        }
      ]
    },
    {
      "cell_type": "markdown",
      "source": [
        "Ejercicio 7:\n",
        "Replique el ejercicio anterior pero esta debe definirse de manera automática el diccionario inicial.\n",
        "\n",
        "Use un ciclo for y piense cómo armar cada cadena que represente un horario y\n",
        "utilícelo como clave de cada elemento del diccionario."
      ],
      "metadata": {
        "id": "diBnFW_G7UIV"
      }
    },
    {
      "cell_type": "code",
      "source": [],
      "metadata": {
        "id": "Zg0RD0d67be7"
      },
      "execution_count": null,
      "outputs": []
    }
  ]
}