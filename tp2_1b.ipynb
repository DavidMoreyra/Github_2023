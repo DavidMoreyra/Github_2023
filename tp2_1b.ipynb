{
  "cells": [
    {
      "cell_type": "markdown",
      "metadata": {
        "id": "IMuE1R9EHUVc"
      },
      "source": []
    },
    {
      "cell_type": "markdown",
      "metadata": {
        "id": "NtZe3-f1bFa1"
      },
      "source": [
        "TP2.1\n",
        "ejercicio1"
      ]
    },
    {
      "cell_type": "code",
      "execution_count": 1,
      "metadata": {
        "colab": {
          "base_uri": "https://localhost:8080/"
        },
        "id": "qiMB6JaRbFa4",
        "outputId": "d47e1918-c5f2-4c50-fa13-ec04c0b893d4"
      },
      "outputs": [
        {
          "output_type": "stream",
          "name": "stdout",
          "text": [
            "Ingrese las palabras separadas por espacios: sapo elefante\n",
            "Palabra más larga: elefante\n",
            "Cantidad de vocales en la palabra más larga: 4\n",
            "Cantidad total de letras mayúsculas ingresadas: 0\n",
            "Palabra más corta: sapo\n"
          ]
        }
      ],
      "source": [
        "def contar_vocales(palabra):\n",
        "    count = 0\n",
        "    for letra in palabra:\n",
        "        if letra.lower() in 'aeiouáéíóú':\n",
        "            count += 1\n",
        "    return count\n",
        "\n",
        "def programa():\n",
        "    palabras = input(\"Ingrese las palabras separadas por espacios: \").split()\n",
        "    \n",
        "    palabra_mas_larga = \"\"\n",
        "    cantidad_vocales_mas_larga = 0\n",
        "    palabra_mas_corta = palabras[0]\n",
        "    cantidad_letras_mayusculas = 0\n",
        "    \n",
        "    for palabra in palabras:\n",
        "        if len(palabra) > len(palabra_mas_larga):\n",
        "            palabra_mas_larga = palabra\n",
        "            cantidad_vocales_mas_larga = contar_vocales(palabra)\n",
        "        \n",
        "        if len(palabra) < len(palabra_mas_corta):\n",
        "            palabra_mas_corta = palabra\n",
        "        \n",
        "        cantidad_letras_mayusculas += sum(1 for letra in palabra if letra.isupper())\n",
        "    \n",
        "    print(\"Palabra más larga:\", palabra_mas_larga)\n",
        "    print(\"Cantidad de vocales en la palabra más larga:\", cantidad_vocales_mas_larga)\n",
        "    print(\"Cantidad total de letras mayúsculas ingresadas:\", cantidad_letras_mayusculas)\n",
        "    print(\"Palabra más corta:\", palabra_mas_corta)\n",
        "\n",
        "programa()\n"
      ]
    },
    {
      "cell_type": "code",
      "execution_count": null,
      "metadata": {
        "id": "MW3DKNPnbFa-"
      },
      "outputs": [],
      "source": [
        "ejercicio2"
      ]
    },
    {
      "cell_type": "code",
      "execution_count": 2,
      "metadata": {
        "colab": {
          "base_uri": "https://localhost:8080/"
        },
        "id": "3lTVVwLTbFa_",
        "outputId": "9a46d819-640b-4063-9960-c025c34c8473"
      },
      "outputs": [
        {
          "output_type": "stream",
          "name": "stdout",
          "text": [
            "Ingrese la cantidad de números aleatorios a generar: 12\n",
            "Lista de números generados: [16, 97, 48, 31, 65, 70, 22, 21, 100, 83, 94, 37]\n",
            "Número máximo: 100\n",
            "Número mínimo: 16\n"
          ]
        }
      ],
      "source": [
        "import random\n",
        "\n",
        "def programa():\n",
        "    n = int(input(\"Ingrese la cantidad de números aleatorios a generar: \"))\n",
        "    numeros = [random.randint(1, 100) for _ in range(n)]\n",
        "    \n",
        "    maximo = max(numeros)\n",
        "    minimo = min(numeros)\n",
        "    \n",
        "    print(\"Lista de números generados:\", numeros)\n",
        "    print(\"Número máximo:\", maximo)\n",
        "    print(\"Número mínimo:\", minimo)\n",
        "\n",
        "programa()\n"
      ]
    },
    {
      "cell_type": "markdown",
      "metadata": {
        "id": "_bJ67oc1bFbA"
      },
      "source": [
        "ejercicio3"
      ]
    },
    {
      "cell_type": "code",
      "execution_count": 6,
      "metadata": {
        "colab": {
          "base_uri": "https://localhost:8080/"
        },
        "id": "RWBuM0XRbFbB",
        "outputId": "eb5ca33b-42d9-4a61-afae-e46a71ec1f6a"
      },
      "outputs": [
        {
          "output_type": "stream",
          "name": "stdout",
          "text": [
            "Valor del dado 1: 6\n",
            "Valor del dado 2: 1\n",
            "¡Ganaste!\n"
          ]
        }
      ],
      "source": [
        "import random\n",
        "\n",
        "def programa():\n",
        "    dado1 = random.randint(1, 6)\n",
        "    dado2 = random.randint(1, 6)\n",
        "    suma = dado1 + dado2\n",
        "    \n",
        "    print(\"Valor del dado 1:\", dado1)\n",
        "    print(\"Valor del dado 2:\", dado2)\n",
        "    \n",
        "    if suma == 7:\n",
        "        print(\"¡Ganaste!\")\n",
        "    else:\n",
        "        print(\"Perdiste\")\n",
        "\n",
        "programa()\n"
      ]
    },
    {
      "cell_type": "markdown",
      "metadata": {
        "id": "eQp4sC0DbFbE"
      },
      "source": [
        "Ejercicio4:"
      ]
    },
    {
      "cell_type": "code",
      "execution_count": 7,
      "metadata": {
        "colab": {
          "base_uri": "https://localhost:8080/"
        },
        "id": "jpc1feY9bFbF",
        "outputId": "e94af4c7-9f84-4a72-a21b-4bb1cc3e93bd"
      },
      "outputs": [
        {
          "output_type": "stream",
          "name": "stdout",
          "text": [
            "Ingrese el nombre del primer equipo: river\n",
            "Ingrese el nombre del segundo equipo: boca\n",
            "river [0, 0, 0, 1, 0]\n",
            "boca [0, 0, 0, 1, 1]\n",
            "¡Gana boca!\n"
          ]
        }
      ],
      "source": [
        "import random\n",
        "\n",
        "def simular_penales():\n",
        "    equipo1 = input(\"Ingrese el nombre del primer equipo: \")\n",
        "    equipo2 = input(\"Ingrese el nombre del segundo equipo: \")\n",
        "    \n",
        "    goles_equipo1 = [random.randint(0, 1) for _ in range(5)]\n",
        "    goles_equipo2 = [random.randint(0, 1) for _ in range(5)]\n",
        "    \n",
        "    print(equipo1, goles_equipo1)\n",
        "    print(equipo2, goles_equipo2)\n",
        "    \n",
        "    goles_equipo1_total = sum(goles_equipo1)\n",
        "    goles_equipo2_total = sum(goles_equipo2)\n",
        "    \n",
        "    if goles_equipo1_total > goles_equipo2_total:\n",
        "        print(\"¡Gana\", equipo1 + \"!\")\n",
        "    elif goles_equipo1_total < goles_equipo2_total:\n",
        "        print(\"¡Gana\", equipo2 + \"!\")\n",
        "    else:\n",
        "        print(\"¡Empate!\")\n",
        "\n",
        "simular_penales()\n"
      ]
    },
    {
      "cell_type": "markdown",
      "metadata": {
        "id": "CA13yNV8bFbG"
      },
      "source": [
        "Ejercicio5:"
      ]
    },
    {
      "cell_type": "code",
      "execution_count": 8,
      "metadata": {
        "colab": {
          "base_uri": "https://localhost:8080/"
        },
        "id": "Lmt883JibFbJ",
        "outputId": "9c8fb53c-4db7-4fe6-b69c-b4e590117f39"
      },
      "outputs": [
        {
          "output_type": "stream",
          "name": "stdout",
          "text": [
            "Número sorteado: 25\n",
            "¡Ganador! Torres se lleva un cuarto del pozo de 250 pesos.\n"
          ]
        }
      ],
      "source": [
        "import random\n",
        "\n",
        "inscripciones = {\n",
        "    1: \"Sanchez\",\n",
        "    2: \"Diaz\",\n",
        "    3: \"Dominguez\",\n",
        "    4: \"Salva\",\n",
        "    5: \"Torres\",\n",
        "    6: \"Yufra\",\n",
        "    7: \"Correa\",\n",
        "    8: \"Solis\",\n",
        "    9: \"Romero\",\n",
        "    10: \"Garcia\"\n",
        "}\n",
        "\n",
        "pozo = 1000\n",
        "ganador = False\n",
        "\n",
        "for _ in range(5):\n",
        "    numero_sorteado = random.randint(10, 99)\n",
        "    print(\"Número sorteado:\", numero_sorteado)\n",
        "    \n",
        "    if numero_sorteado in inscripciones:\n",
        "        print(\"¡Ganador!\", inscripciones[numero_sorteado], \"se lleva el pozo de\", pozo, \"pesos.\")\n",
        "        ganador = True\n",
        "        break\n",
        "    \n",
        "    for inscripcion, apellido in inscripciones.items():\n",
        "        if abs(numero_sorteado - inscripcion) == 10:\n",
        "            print(\"¡Ganador!\", apellido, \"se lleva la mitad del pozo de\", pozo // 2, \"pesos.\")\n",
        "            ganador = True\n",
        "            break\n",
        "        \n",
        "        if numero_sorteado % 10 == inscripcion % 10:\n",
        "            print(\"¡Ganador!\", apellido, \"se lleva un cuarto del pozo de\", pozo // 4, \"pesos.\")\n",
        "            ganador = True\n",
        "            break\n",
        "    \n",
        "    if ganador:\n",
        "        break\n",
        "\n",
        "if not ganador:\n",
        "    print(\"Pozo vacante.\")\n"
      ]
    }
  ],
  "metadata": {
    "colab": {
      "provenance": []
    },
    "kernelspec": {
      "display_name": "Python 3",
      "name": "python3"
    },
    "language_info": {
      "name": "python"
    }
  },
  "nbformat": 4,
  "nbformat_minor": 0
}